{
 "cells": [
  {
   "cell_type": "code",
   "execution_count": 7,
   "id": "d6ef19cc-0ac0-4930-8edb-2293c746958a",
   "metadata": {},
   "outputs": [
    {
     "data": {
      "text/plain": [
       "(5, 0)"
      ]
     },
     "execution_count": 7,
     "metadata": {},
     "output_type": "execute_result"
    }
   ],
   "source": [
    "import pygame\n",
    "import carla\n",
    "import time\n",
    "import sys\n",
    "pygame.joystick.init()\n",
    "pygame.init()"
   ]
  },
  {
   "cell_type": "code",
   "execution_count": 8,
   "id": "0f77da7d-5943-4638-b983-74ad7eb625f6",
   "metadata": {},
   "outputs": [],
   "source": [
    "#### Functions\n",
    "\n",
    "## Return instantiated\n",
    "def get_joysticks():\n",
    "    joysticks=[]\n",
    "    for x in range(joystick_count):\n",
    "        joystick=pygame.joystick.Joystick(x)\n",
    "        joystick.init()\n",
    "        joysticks.append(joystick)\n",
    "        print(F\"Joystick {x}: {joystick.get_name()} (Axes: {joystick.get_numaxes()}, Buttons: {joystick.get_numbuttons()}, Hats: {joystick.get_numhats()}\")\n",
    "    print (f'\\n|||   Total Number of recognized joystick devices {len(joysticks)}   |||')\n",
    "    return joysticks"
   ]
  },
  {
   "cell_type": "code",
   "execution_count": 9,
   "id": "e89d0368-a753-4541-90f0-80ed9c253afd",
   "metadata": {},
   "outputs": [],
   "source": [
    "joystick_count=pygame.joystick.get_count()\n",
    "if joystick_count==0:\n",
    "    print(\"No joysticks (controllers or Fanatec kits) found. Connect Fanatec wheel.\\nEnsure FanaLab is installed in addition to Fanatec App\")"
   ]
  },
  {
   "cell_type": "code",
   "execution_count": 10,
   "id": "ad925101-d58e-4d8c-9436-4391d4149261",
   "metadata": {},
   "outputs": [
    {
     "name": "stdout",
     "output_type": "stream",
     "text": [
      "Joystick 0: FANATEC Wheel (Axes: 12, Buttons: 63, Hats: 4\n",
      "Joystick 1: FANATEC Wheel (Axes: 8, Buttons: 108, Hats: 1\n",
      "\n",
      "|||   Total Number of recognized joystick devices 2   |||\n"
     ]
    }
   ],
   "source": [
    "joysticks=get_joysticks()"
   ]
  },
  {
   "cell_type": "raw",
   "id": "03990995-78dc-4a3b-a67e-6e54c717fd2c",
   "metadata": {
    "jupyter": {
     "source_hidden": true
    }
   },
   "source": [
    "print(\"\\nInstructions:\")\n",
    "print(\"1. Interact with your wheel, pedals, buttons, and D-pads one at a time.\")\n",
    "print(\"2. Observe the output below to identify which joystick index and which control index corresponds to each physical input.\")\n",
    "print(\"   - Axes will show floating-point values (e.g., A0:0.5000)\")\n",
    "print(\"   - Buttons will show 0 (released) or 1 (pressed) (e.g., B5:1)\")\n",
    "print(\"   - Hats (D-pads) will show a tuple indicating direction (e.g., H0:(0, 1) for Up)\")\n",
    "print(\"Press Ctrl+C in the terminal to exit.\")\n",
    "\n",
    "# Function to clear the terminal screen (optional, makes multi-line output cleaner)\n",
    "def clear_screen():\n",
    "    \"\"\"Clears the terminal screen.\"\"\"\n",
    "    os.system('cls' if os.name == 'nt' else 'clear')\n",
    "\n",
    "# --- Real-time Input Reading Loop ---\n",
    "try:\n",
    "    while True:\n",
    "        # Process Pygame events to keep the window responsive and detect quit events\n",
    "        for event in pygame.event.get():\n",
    "            if event.type == pygame.QUIT:\n",
    "                raise KeyboardInterrupt # Exit loop if window is closed (unlikely here)\n",
    "\n",
    "        # Optional: Uncomment the line below to clear the screen before each update.\n",
    "        # This provides a cleaner multi-line output but may cause flickering.\n",
    "        # clear_screen()\n",
    "        # print(\"--- Joystick States ---\") # Optional header if clearing screen\n",
    "\n",
    "        # Read and print input states for ALL initialized joysticks\n",
    "        for i, joystick in enumerate(joysticks):\n",
    "            print(f\"J{i}:\") # Print joystick index on its own line\n",
    "            try:\n",
    "                # --- Read Axes ---\n",
    "                num_axes = joystick.get_numaxes()\n",
    "                if num_axes > 0:\n",
    "                    axis_values = [joystick.get_axis(j) for j in range(num_axes)]\n",
    "                    # Format the axis values with axis number labels and .4f precision\n",
    "                    formatted_axes = [f\"A{j}:{axis_values[j]:.4f}\" for j in range(num_axes)]\n",
    "                    print(f\"    Axes: [{', '.join(formatted_axes)}]\") # Print axes on a new indented line\n",
    "\n",
    "                # --- Read Buttons ---\n",
    "                num_buttons = joystick.get_numbuttons()\n",
    "                if num_buttons > 0:\n",
    "                    button_values = [joystick.get_button(j) for j in range(num_buttons)]\n",
    "                    # Format button values with button number labels (0 or 1)\n",
    "                    formatted_buttons = [f\"B{j}:{button_values[j]}\" for j in range(num_buttons)]\n",
    "                    print(f\"    Buttons: [{', '.join(formatted_buttons)}]\") # Print buttons on a new indented line\n",
    "\n",
    "                # --- Read Hats ---\n",
    "                num_hats = joystick.get_numhats()\n",
    "                if num_hats > 0:\n",
    "                    hat_values = [joystick.get_hat(j) for j in range(num_hats)]\n",
    "                    # Format hat values with hat number labels (tuple)\n",
    "                    formatted_hats = [f\"H{j}:{hat_values[j]}\" for j in range(num_hats)]\n",
    "                    print(f\"    Hats: [{', '.join(formatted_hats)}]\") # Print hats on a new indented line\n",
    "\n",
    "                if num_axes == 0 and num_buttons == 0 and num_hats == 0:\n",
    "                     print(\"    No input data (Axes, Buttons, Hats) detected for this joystick.\")\n",
    "\n",
    "            except pygame.error as e:\n",
    "                # Handle potential errors during reading - this print adds a newline\n",
    "                print(f\"    Error reading input: {e}\")\n",
    "\n",
    "            print(\"-\" * 20) # Separator line for clarity between joysticks\n",
    "\n",
    "        # Small delay to control the loop speed\n",
    "        time.sleep(0.5) # Increased delay slightly for better readability with multi-line output\n",
    "\n",
    "except KeyboardInterrupt:\n",
    "    # This block is executed when the user presses Ctrl+C\n",
    "    print(\"\\nExiting script.\")\n",
    "except Exception as e:\n",
    "    # Catch any other unexpected errors\n",
    "    print(f\"\\nAn unexpected error occurred: {e}\")\n",
    "\n",
    "finally:\n",
    "    # --- Clean up ---\n",
    "    pygame.joystick.quit()\n",
    "    pygame.quit()\n",
    "    print(\"Pygame quit.\")"
   ]
  },
  {
   "cell_type": "code",
   "execution_count": null,
   "id": "758d036f-1b5e-4db1-887f-1c2cdd0399e7",
   "metadata": {
    "jupyter": {
     "source_hidden": true
    }
   },
   "outputs": [],
   "source": [
    "try:\n",
    "    while True:\n",
    "        # Process Pygame events to keep the window responsive and detect quit events\n",
    "        # Although we don't have a window, this is good practice for pygame loops\n",
    "        for event in pygame.event.get():\n",
    "            if event.type == pygame.QUIT:\n",
    "                raise KeyboardInterrupt # Exit loop if window is closed (unlikely here)\n",
    "\n",
    "        # Read and print axis values for ALL initialized joysticks\n",
    "        all_axes_data = []\n",
    "        all_button_data = []\n",
    "        all_hat_data= []\n",
    "        for i, joystick in enumerate(joysticks):\n",
    "            try:\n",
    "                # Get the number of axes for the current joystick\n",
    "                num_axes = joystick.get_numaxes()\n",
    "                num_buttons = joystick.get_numbuttons()\n",
    "                num_hat = joystick.get_numhats()\n",
    "                # Read the value of each axis\n",
    "                axis_values = [joystick.get_axis(j) for j in range(num_axes)]\n",
    "                button_values = [joystick.get_button(j) for j in range (num_buttons)]\n",
    "                hat_values = [joystick.get_hat(j) for j in range (num_buttons)]\n",
    "                # Format the axis values for printing\n",
    "                formatted_axes_values = [f\"{v:.4f}\" for v in axis_values]\n",
    "                # Add the data for this joystick to the list\n",
    "                all_axes_data.append(f\"J{i} Axes: [{', '.join(formatted_axes_values)}]\")\n",
    "                all_button_data.append(f\"J{i} Buttons: [{', '.join(hat_values)}]\")\n",
    "                all_hat_values.append(f\"J{i} Hats: [{', '.join(formatted_hat_values)}]\")\n",
    "            except pygame.error as e:\n",
    "                # Handle potential errors during axis reading (less common, but possible)\n",
    "                all_axes_data.append(f\"J{i} Axes: [Error reading: {e}]\")\n",
    "\n",
    "        # Print all the collected axis data on a single line, overwriting the previous line\n",
    "        print(\" | \".join(all_axes_data), end='\\r')\n",
    "\n",
    "        # Small delay to control the loop speed and prevent high CPU usage\n",
    "        time.sleep(0.01) # Adjust this value if needed (e.g., 0.005 for faster updates)\n",
    "\n",
    "except KeyboardInterrupt:\n",
    "    # This block is executed when the user presses Ctrl+C\n",
    "    print(\"\\nExiting script.\")\n",
    "except Exception as e:\n",
    "    # Catch any other unexpected errors\n",
    "    print(f\"\\nAn unexpected error occurred: {e}\")\n",
    "\n",
    "finally:\n",
    "    # --- Clean up ---\n",
    "    pygame.joystick.quit()\n",
    "    pygame.quit()\n",
    "    print(\"Pygame quit.\")"
   ]
  },
  {
   "cell_type": "raw",
   "id": "0ad6705d-26ee-4b6f-bd87-1edfd8be8179",
   "metadata": {
    "jupyter": {
     "source_hidden": true
    }
   },
   "source": [
    "# --- Real-time Input Reading Loop ---\n",
    "try:\n",
    "    while True:\n",
    "        # Process Pygame events to keep the window responsive and detect quit events\n",
    "        for event in pygame.event.get():\n",
    "            if event.type == pygame.QUIT:\n",
    "                raise KeyboardInterrupt # Exit loop if window is closed (unlikely here)\n",
    "\n",
    "        # Read and print input states for ALL initialized joysticks\n",
    "        all_input_data = []\n",
    "        for i, joystick in enumerate(joysticks):\n",
    "            joystick_data_parts = [] # Use a list to collect formatted parts for this joystick\n",
    "            try:\n",
    "                # --- Read Axes ---\n",
    "                num_axes = joystick.get_numaxes()\n",
    "                if num_axes > 0:\n",
    "                    axis_values = [joystick.get_axis(j) for j in range(num_axes)]\n",
    "                    # Format the axis values with axis number labels and .4f precision\n",
    "                    formatted_axes = [f\"A{j}:{axis_values[j]:.4f}\" for j in range(num_axes)]\n",
    "                    joystick_data_parts.append(f\"Axes: [{', '.join(formatted_axes)}]\")\n",
    "\n",
    "                # --- Read Buttons ---\n",
    "                num_buttons = joystick.get_numbuttons()\n",
    "                if num_buttons > 0:\n",
    "                    button_values = [joystick.get_button(j) for j in range(num_buttons)]\n",
    "                    # Format button values with button number labels (0 or 1)\n",
    "                    formatted_buttons = [f\"B{j}:{button_values[j]}\" for j in range(num_buttons)]\n",
    "                    joystick_data_parts.append(f\"Buttons: [{', '.join(formatted_buttons)}]\")\n",
    "\n",
    "                # --- Read Hats ---\n",
    "                num_hats = joystick.get_numhats()\n",
    "                if num_hats > 0:\n",
    "                    hat_values = [joystick.get_hat(j) for j in range(num_hats)]\n",
    "                    # Format hat values with hat number labels (tuple)\n",
    "                    formatted_hats = [f\"H{j}:{hat_values[j]}\" for j in range(num_hats)]\n",
    "                    joystick_data_parts.append(f\"Hats: [{', '.join(formatted_hats)}]\")\n",
    "\n",
    "                # Combine data for this joystick\n",
    "                if joystick_data_parts:\n",
    "                     all_input_data.append(f\"J{i} | {' | '.join(joystick_data_parts)}\")\n",
    "                else:\n",
    "                     all_input_data.append(f\"J{i} | No input data (Axes, Buttons, Hats) detected\")\n",
    "\n",
    "\n",
    "            except pygame.error as e:\n",
    "                # Handle potential errors during reading\n",
    "                all_input_data.append(f\"J{i} | Error reading input: {e}\")\n",
    "\n",
    "        # Join data from all joysticks and print on a single line\n",
    "        if all_input_data:\n",
    "             print(\" | \".join(all_input_data), end='\\r')\n",
    "        else:\n",
    "             print(\"No active joystick data to display.\", end='\\r')\n",
    "\n",
    "\n",
    "        # Small delay to control the loop speed\n",
    "        time.sleep(0.01) # Adjust as needed\n",
    "\n",
    "except KeyboardInterrupt:\n",
    "    # This block is executed when the user presses Ctrl+C\n",
    "    print(\"\\nExiting script.\")\n",
    "except Exception as e:\n",
    "    # Catch any other unexpected errors\n",
    "    print(f\"\\nAn unexpected error occurred: {e}\")\n",
    "\n",
    "finally:\n",
    "    # --- Clean up ---\n",
    "    pygame.joystick.quit()\n",
    "    pygame.quit()\n",
    "    print(\"Pygame quit.\")"
   ]
  },
  {
   "cell_type": "code",
   "execution_count": null,
   "id": "616703c3-9b0d-4cf4-831f-ff78f51c9040",
   "metadata": {},
   "outputs": [
    {
     "name": "stdout",
     "output_type": "stream",
     "text": [
      "\n",
      "Instructions:\n",
      "1. Slowly press and release your Throttle pedal.\n",
      "2. Slowly press and release your Brake pedal.\n",
      "3. Slowly press and release your Clutch pedal (if applicable).\n",
      "Observe the axis values printed below to identify which axis corresponds to each pedal.\n",
      "Press Ctrl+C in the terminal to exit.\n",
      "J0 Axes: [0.0000, 0.0000, 0.0000, 0.0000, 0.0000, 0.0000, 0.0000, 0.0000, 0.0000, 0.0000, 0.0000, 0.0000] | J1 Axes: [-0.0544, 1.0000, 0.0000, 0.0000, 1.0000, 1.0000, 1.0000, 0.0000]"
     ]
    }
   ],
   "source": [
    "print(\"\\nInstructions:\")\n",
    "print(\"1. Slowly press and release your Throttle pedal.\")\n",
    "print(\"2. Slowly press and release your Brake pedal.\")\n",
    "print(\"3. Slowly press and release your Clutch pedal (if applicable).\")\n",
    "print(\"Observe the axis values printed below to identify which axis corresponds to each pedal.\")\n",
    "print(\"Press Ctrl+C in the terminal to exit.\")\n",
    "\n",
    "# --- Real-time Axis Reading Loop ---\n",
    "try:\n",
    "    while True:\n",
    "        # Process Pygame events to keep the window responsive and detect quit events\n",
    "        # Although we don't have a window, this is good practice for pygame loops\n",
    "        for event in pygame.event.get():\n",
    "            if event.type == pygame.QUIT:\n",
    "                raise KeyboardInterrupt # Exit loop if window is closed (unlikely here)\n",
    "\n",
    "        # Read and print axis values for ALL initialized joysticks\n",
    "        all_axes_data = []\n",
    "        for i, joystick in enumerate(joysticks):\n",
    "            try:\n",
    "                # Get the number of axes for the current joystick\n",
    "                num_axes = joystick.get_numaxes()\n",
    "                # Read the value of each axis\n",
    "                axis_values = [joystick.get_axis(j) for j in range(num_axes)]\n",
    "                # Format the axis values for printing\n",
    "                formatted_values = [f\"{v:.4f}\" for v in axis_values]\n",
    "                # Add the data for this joystick to the list\n",
    "                all_axes_data.append(f\"J{i} Axes: [{', '.join(formatted_values)}]\")\n",
    "            except pygame.error as e:\n",
    "                # Handle potential errors during axis reading (less common, but possible)\n",
    "                all_axes_data.append(f\"J{i} Axes: [Error reading: {e}]\")\n",
    "\n",
    "\n",
    "        # Print all the collected axis data on a single line, overwriting the previous line\n",
    "        print(\" | \".join(all_axes_data), end='\\r')\n",
    "\n",
    "        # Small delay to control the loop speed and prevent high CPU usage\n",
    "        time.sleep(0.01) # Adjust this value if needed (e.g., 0.005 for faster updates)\n",
    "\n",
    "except KeyboardInterrupt:\n",
    "    # This block is executed when the user presses Ctrl+C\n",
    "    print(\"\\nExiting script.\")\n",
    "except Exception as e:\n",
    "    # Catch any other unexpected errors\n",
    "    print(f\"\\nAn unexpected error occurred: {e}\")\n",
    "\n",
    "finally:\n",
    "    # --- Clean up ---\n",
    "    pygame.joystick.quit()\n",
    "    pygame.quit()\n",
    "    print(\"Pygame quit.\")\n",
    "\n"
   ]
  },
  {
   "cell_type": "code",
   "execution_count": null,
   "id": "f11b8e62-eec8-47fb-94b7-79df2644006f",
   "metadata": {},
   "outputs": [],
   "source": []
  },
  {
   "cell_type": "code",
   "execution_count": null,
   "id": "8353321e-55db-494e-babf-c656674bb11e",
   "metadata": {},
   "outputs": [],
   "source": []
  },
  {
   "cell_type": "code",
   "execution_count": null,
   "id": "a08b86f9-489e-43be-badb-3d23d42ebc14",
   "metadata": {},
   "outputs": [],
   "source": []
  },
  {
   "cell_type": "code",
   "execution_count": null,
   "id": "a3d7adc8-3c95-4b17-9fb5-db53da85a337",
   "metadata": {},
   "outputs": [],
   "source": []
  },
  {
   "cell_type": "code",
   "execution_count": null,
   "id": "873ceff3-145e-47b8-9a69-3365ec22cf6b",
   "metadata": {},
   "outputs": [],
   "source": []
  },
  {
   "cell_type": "code",
   "execution_count": null,
   "id": "9c99219d-491c-4718-9b63-3fe473815710",
   "metadata": {},
   "outputs": [],
   "source": []
  },
  {
   "cell_type": "code",
   "execution_count": null,
   "id": "5fad39ca-4e71-471b-88ad-69d26d187614",
   "metadata": {},
   "outputs": [],
   "source": []
  },
  {
   "cell_type": "code",
   "execution_count": null,
   "id": "5f0060d1-c985-4934-b6ee-f5e76fbdbd1b",
   "metadata": {},
   "outputs": [],
   "source": []
  },
  {
   "cell_type": "code",
   "execution_count": null,
   "id": "c10f0b66-bc16-4144-8e21-a08a363f4f9d",
   "metadata": {},
   "outputs": [],
   "source": []
  },
  {
   "cell_type": "code",
   "execution_count": null,
   "id": "f0402b0a-5539-4970-b6c5-7686f6ec5dec",
   "metadata": {},
   "outputs": [],
   "source": []
  },
  {
   "cell_type": "code",
   "execution_count": null,
   "id": "5e746e40-a5a6-42b8-9762-da37416f91bd",
   "metadata": {},
   "outputs": [],
   "source": []
  },
  {
   "cell_type": "code",
   "execution_count": null,
   "id": "92120f30-e1ad-4ce8-9944-7e8ad9fbe310",
   "metadata": {},
   "outputs": [],
   "source": [
    "# Create basic framework for import into carla API\n",
    "fwl_carla=carla.VehicleControl(\n",
    "    throttle=0,\n",
    "    steer=0,\n",
    "    brake=0,\n",
    "    hand_brake=False,\n",
    "    reverse=False,\n",
    "    manual_gear_shift=False,\n",
    "    gear=1\n",
    ")"
   ]
  },
  {
   "cell_type": "code",
   "execution_count": null,
   "id": "7adec652-aebb-44b3-a812-dd0479373e9e",
   "metadata": {},
   "outputs": [],
   "source": [
    "# \n"
   ]
  },
  {
   "cell_type": "code",
   "execution_count": null,
   "id": "d7e08c5f-701d-4f0d-85dd-be40e2f434a4",
   "metadata": {},
   "outputs": [],
   "source": []
  }
 ],
 "metadata": {
  "kernelspec": {
   "display_name": "Python 3 (ipykernel)",
   "language": "python",
   "name": "python3"
  },
  "language_info": {
   "codemirror_mode": {
    "name": "ipython",
    "version": 3
   },
   "file_extension": ".py",
   "mimetype": "text/x-python",
   "name": "python",
   "nbconvert_exporter": "python",
   "pygments_lexer": "ipython3",
   "version": "3.10.16"
  }
 },
 "nbformat": 4,
 "nbformat_minor": 5
}
